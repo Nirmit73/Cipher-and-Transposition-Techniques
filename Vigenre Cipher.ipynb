{
 "cells": [
  {
   "cell_type": "code",
   "execution_count": null,
   "id": "f21ea774",
   "metadata": {},
   "outputs": [],
   "source": [
    "def encrypt(plaintxt,key):\n",
    "    l=list('ABCDEFGHIJKLMNOPQRSTUVWXYZ')\n",
    "    ciphertxt=''    \n",
    "    for i in range(len(key)):\n",
    "        ciphertxt+=l[(ord(plaintxt[i])+ord(key[i]))%26]\n",
    "    return ciphertxt    \n",
    "def decrypt(ciphertxt,key):\n",
    "    l=list('ABCDEFGHIJKLMNOPQRSTUVWXYZ')\n",
    "    plaintxt=''\n",
    "    for i in range(len(key)):\n",
    "            plaintxt+=l[(ord(ciphertxt[i])-ord(key[i]))%26]\n",
    "    return plaintxt\n",
    "\n",
    "plaintxt=''.join(input('Enter plain text here: ').upper().split())\n",
    "key=input('Enter the keyword: ').upper()\n",
    "\n",
    "if len(plaintxt)!=len(key):\n",
    "    count=0\n",
    "    \n",
    "    while len(plaintxt)!=len(key):\n",
    "        if count>=len(key):\n",
    "            count=0\n",
    "        key+=key[count]\n",
    "        count+=1    \n",
    "        \n",
    "ciphertxt=encrypt(plaintxt,key)\n",
    "plaintxt=decrypt(ciphertxt,key)\n",
    "print('Your Ciphered text is: ',ciphertxt)\n",
    "print('Your plain text is: ',plaintxt)"
   ]
  }
 ],
 "metadata": {
  "kernelspec": {
   "display_name": "Python 3 (ipykernel)",
   "language": "python",
   "name": "python3"
  },
  "language_info": {
   "codemirror_mode": {
    "name": "ipython",
    "version": 3
   },
   "file_extension": ".py",
   "mimetype": "text/x-python",
   "name": "python",
   "nbconvert_exporter": "python",
   "pygments_lexer": "ipython3",
   "version": "3.9.12"
  }
 },
 "nbformat": 4,
 "nbformat_minor": 5
}
