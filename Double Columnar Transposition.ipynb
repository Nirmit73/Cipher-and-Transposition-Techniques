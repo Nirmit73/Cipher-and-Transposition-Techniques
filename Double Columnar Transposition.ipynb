{
 "cells": [
  {
   "cell_type": "code",
   "execution_count": null,
   "id": "d2ed8c57",
   "metadata": {},
   "outputs": [],
   "source": [
    "#x is used as filler alphabet and needs to be ignored in the output of decrypt function\n",
    "import numpy as np\n",
    "def creatematrix(plaintxt,key):\n",
    "    a=len(plaintxt)//len(key)\n",
    "    if len(plaintxt)%len(key)!=0:\n",
    "        for i in range(len(key)*(a+1)-len(plaintxt)):\n",
    "            plaintxt+='x'\n",
    "        return np.array(list(plaintxt)).reshape(a+1,len(key))\n",
    "    return np.array(list(plaintxt)).reshape(a,len(key))\n",
    "\n",
    "def encrypt(creatematrix,matrix,key):\n",
    "    ciphertxt1=''\n",
    "    for i in range(len(key)):\n",
    "        c=key.index(i+1)\n",
    "        ciphertxt1+=''.join(matrix[:,c])\n",
    "    print('Your single encrypted text is: ',ciphertxt1)\n",
    "    a=creatematrix(ciphertxt1,key)\n",
    "    ciphertxt2=''\n",
    "    for i in range(len(key)):\n",
    "        k=key.index(i+1)\n",
    "        ciphertxt2+=''.join(a[:,k])\n",
    "    return ciphertxt2\n",
    "\n",
    "def decrypt(ciphertxt,key):\n",
    "    cc=''\n",
    "    cc1=''\n",
    "    cc2=''\n",
    "    c=len(ciphertxt)//len(key)\n",
    "    for i in key:\n",
    "        cc+=ciphertxt[(i-1)*c:(i-1)*c+c]\n",
    "    a=np.array(list(cc)).reshape(len(key),c).T\n",
    "    cc1=''.join(a.reshape(1,len(ciphertxt)).tolist()[0])\n",
    "    print('Your single decrypted text is:',cc1)\n",
    "    for i in key:\n",
    "        cc2+=cc1[(i-1)*c:(i-1)*c+c]\n",
    "    aa=np.array(list(cc2)).reshape(len(key),c).T\n",
    "    return ''.join(aa.reshape(1,len(ciphertxt)).tolist()[0])\n",
    "    \n",
    "plaintxt=input('Enter your plain text here: ')\n",
    "key=list(map(int,input().split()))\n",
    "m=creatematrix(plaintxt,key)\n",
    "print(m)\n",
    "ciphertxt=encrypt(creatematrix,m,key)\n",
    "print('Your double encrypted text is:',ciphertxt)\n",
    "print('Your double decrypted text is:',decrypt(ciphertxt,key))"
   ]
  }
 ],
 "metadata": {
  "kernelspec": {
   "display_name": "Python 3 (ipykernel)",
   "language": "python",
   "name": "python3"
  },
  "language_info": {
   "codemirror_mode": {
    "name": "ipython",
    "version": 3
   },
   "file_extension": ".py",
   "mimetype": "text/x-python",
   "name": "python",
   "nbconvert_exporter": "python",
   "pygments_lexer": "ipython3",
   "version": "3.9.12"
  }
 },
 "nbformat": 4,
 "nbformat_minor": 5
}
