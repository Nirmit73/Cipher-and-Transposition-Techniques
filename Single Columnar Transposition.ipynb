{
 "cells": [
  {
   "cell_type": "code",
   "execution_count": null,
   "id": "66f462d3",
   "metadata": {},
   "outputs": [],
   "source": [
    "#x is used as filler alphabet and needs to be ignored in the output of decrypt function\n",
    "import numpy as np\n",
    "def creatematrix(plaintxt,key):\n",
    "    a=len(plaintxt)//len(key)\n",
    "    if len(plaintxt)%len(key)!=0:\n",
    "        for i in range(len(key)*(a+1)-len(plaintxt)):\n",
    "            plaintxt+='x'\n",
    "        return np.array(list(plaintxt)).reshape(a+1,len(key))\n",
    "    return np.array(list(plaintxt)).reshape(a,len(key))\n",
    "\n",
    "def encrypt(matrix,key):\n",
    "    ciphertxt=''\n",
    "    for i in range(len(key)):\n",
    "        c=key.index(i+1)\n",
    "        ciphertxt+=''.join(matrix[:,c])\n",
    "    return ciphertxt\n",
    "\n",
    "def decrypt(ciphertxt,key):\n",
    "    cc=''\n",
    "    c=len(ciphertxt)//len(key)\n",
    "    for i in key:\n",
    "        cc+=ciphertxt[(i-1)*c:(i-1)*c+c]\n",
    "    a=np.array(list(cc)).reshape(len(key),c).T\n",
    "    return ''.join(a.reshape(1,len(ciphertxt)).tolist()[0])\n",
    "    \n",
    "plaintxt=input('Enter your plain text here: ')\n",
    "key=list(map(int,input().split()))\n",
    "m=creatematrix(plaintxt,key)\n",
    "ciphertxt=encrypt(m,key)\n",
    "print(m)\n",
    "print('Your ciphered text is: ',ciphertxt)\n",
    "print('Your deciphered text is:',decrypt(ciphertxt,key))"
   ]
  }
 ],
 "metadata": {
  "kernelspec": {
   "display_name": "Python 3 (ipykernel)",
   "language": "python",
   "name": "python3"
  },
  "language_info": {
   "codemirror_mode": {
    "name": "ipython",
    "version": 3
   },
   "file_extension": ".py",
   "mimetype": "text/x-python",
   "name": "python",
   "nbconvert_exporter": "python",
   "pygments_lexer": "ipython3",
   "version": "3.9.12"
  }
 },
 "nbformat": 4,
 "nbformat_minor": 5
}
