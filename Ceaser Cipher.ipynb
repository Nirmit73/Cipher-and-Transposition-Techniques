{
 "cells": [
  {
   "cell_type": "code",
   "execution_count": null,
   "id": "cc3b4bb4",
   "metadata": {},
   "outputs": [],
   "source": [
    "def encrypt_function(text, key):  \n",
    "    result = \"\"  \n",
    "\n",
    "    for i in range(len(text)):  \n",
    "        char = text[i]  \n",
    "\n",
    "        if (char.isupper()):  \n",
    "            result += chr((ord(char) + key - 65) % 26 + 65)  \n",
    "\n",
    "        else:  \n",
    "            result += chr((ord(char) + key - 97) % 26 + 97)  \n",
    "    return result\n",
    "def decrypt_function(var, key):  \n",
    "    pt = \"\"  \n",
    "\n",
    "    for i in range(len(var)):  \n",
    "        char = var[i]  \n",
    "\n",
    "        if (char.isupper()):  \n",
    "            pt += chr((ord(char) - key - 65) % 26 + 65)  \n",
    "\n",
    "        else:  \n",
    "            pt += chr((ord(char) - key - 97) % 26 + 97)  \n",
    "    return pt\n",
    "  \n",
    "text=input('Enter plain text: ')\n",
    "key=int(input('Key: '))\n",
    "encrypt=encrypt_function(text, key)\n",
    "decrypt=decrypt_function(encrypt, key)\n",
    "print('Your ciphered text is:',encrypt)\n",
    "print('Your deciphered text is:',decrypt)"
   ]
  }
 ],
 "metadata": {
  "kernelspec": {
   "display_name": "Python 3 (ipykernel)",
   "language": "python",
   "name": "python3"
  },
  "language_info": {
   "codemirror_mode": {
    "name": "ipython",
    "version": 3
   },
   "file_extension": ".py",
   "mimetype": "text/x-python",
   "name": "python",
   "nbconvert_exporter": "python",
   "pygments_lexer": "ipython3",
   "version": "3.9.12"
  }
 },
 "nbformat": 4,
 "nbformat_minor": 5
}
