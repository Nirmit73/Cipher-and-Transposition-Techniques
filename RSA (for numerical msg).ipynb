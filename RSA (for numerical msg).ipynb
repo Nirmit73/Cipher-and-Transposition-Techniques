{
 "cells": [
  {
   "cell_type": "code",
   "execution_count": null,
   "id": "f7215b1e",
   "metadata": {},
   "outputs": [],
   "source": [
    "#Works for numerical message only\n",
    "#Your product of p and q must be greater than the message\n",
    "from math import gcd\n",
    "import random\n",
    "def RSA_Encrypt(M,p,q):\n",
    "    n=p*q\n",
    "    phin=(p-1)*(q-1)\n",
    "    l=[]\n",
    "    for i in range(2,phin):\n",
    "        if gcd(phin,i)==1:\n",
    "            l.append(i)\n",
    "    e=random.sample(l,1)[0]\n",
    "    d=1\n",
    "    while (e*d)%phin!=1:\n",
    "        d=d+1    \n",
    "    C=1\n",
    "    for i in range(e):\n",
    "        C=((C*M)%n)%n \n",
    "    return C,n,e,d\n",
    "\n",
    "def RSA_Decrypt(C,n,e,d):\n",
    "    m=1\n",
    "    for i in range(d):\n",
    "        m=((m*C)%n)%n\n",
    "    return m\n",
    "\n",
    "\n",
    "M=int(input('Enter a message: '))\n",
    "p=int(input('Enter a prime number: '))\n",
    "q=int(input('Enter a prime number: '))\n",
    "C,n,e,d=RSA_Encrypt(M,p,q)\n",
    "print('Your encrypted message is: ',C)\n",
    "print('Your decrypted message is: ',RSA_Decrypt(C,n,e,d))"
   ]
  }
 ],
 "metadata": {
  "kernelspec": {
   "display_name": "Python 3 (ipykernel)",
   "language": "python",
   "name": "python3"
  },
  "language_info": {
   "codemirror_mode": {
    "name": "ipython",
    "version": 3
   },
   "file_extension": ".py",
   "mimetype": "text/x-python",
   "name": "python",
   "nbconvert_exporter": "python",
   "pygments_lexer": "ipython3",
   "version": "3.9.12"
  }
 },
 "nbformat": 4,
 "nbformat_minor": 5
}
